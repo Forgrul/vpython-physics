{
 "cells": [
  {
   "cell_type": "code",
   "execution_count": 2,
   "id": "cb42a10c",
   "metadata": {},
   "outputs": [
    {
     "data": {
      "text/html": [
       "<div id=\"glowscript\" class=\"glowscript\"></div>"
      ],
      "text/plain": [
       "<IPython.core.display.HTML object>"
      ]
     },
     "metadata": {},
     "output_type": "display_data"
    },
    {
     "data": {
      "application/javascript": [
       "if (typeof Jupyter !== \"undefined\") { window.__context = { glowscript_container: $(\"#glowscript\").removeAttr(\"id\")};}else{ element.textContent = ' ';}"
      ],
      "text/plain": [
       "<IPython.core.display.Javascript object>"
      ]
     },
     "metadata": {},
     "output_type": "display_data"
    },
    {
     "ename": "KeyboardInterrupt",
     "evalue": "",
     "output_type": "error",
     "traceback": [
      "\u001b[1;31m---------------------------------------------------------------------------\u001b[0m",
      "\u001b[1;31mKeyboardInterrupt\u001b[0m                         Traceback (most recent call last)",
      "\u001b[1;32m~\\AppData\\Local\\Temp/ipykernel_16048/177404937.py\u001b[0m in \u001b[0;36m<module>\u001b[1;34m\u001b[0m\n\u001b[0;32m     21\u001b[0m     \u001b[0mball_pos\u001b[0m\u001b[1;33m[\u001b[0m\u001b[1;36m0\u001b[0m\u001b[1;33m]\u001b[0m \u001b[1;33m=\u001b[0m \u001b[0mA\u001b[0m \u001b[1;33m*\u001b[0m \u001b[0msin\u001b[0m\u001b[1;33m(\u001b[0m\u001b[0momega\u001b[0m \u001b[1;33m*\u001b[0m \u001b[0mt\u001b[0m\u001b[1;33m)\u001b[0m\u001b[1;33m\u001b[0m\u001b[1;33m\u001b[0m\u001b[0m\n\u001b[0;32m     22\u001b[0m \u001b[1;33m\u001b[0m\u001b[0m\n\u001b[1;32m---> 23\u001b[1;33m     \u001b[0mspring_len\u001b[0m\u001b[1;33m[\u001b[0m\u001b[1;33m:\u001b[0m\u001b[1;33m-\u001b[0m\u001b[1;36m1\u001b[0m\u001b[1;33m]\u001b[0m \u001b[1;33m=\u001b[0m \u001b[0mball_pos\u001b[0m\u001b[1;33m[\u001b[0m\u001b[1;36m1\u001b[0m\u001b[1;33m:\u001b[0m\u001b[1;33m]\u001b[0m \u001b[1;33m-\u001b[0m \u001b[0mball_pos\u001b[0m\u001b[1;33m[\u001b[0m\u001b[1;33m:\u001b[0m\u001b[1;33m-\u001b[0m\u001b[1;36m1\u001b[0m\u001b[1;33m]\u001b[0m\u001b[1;33m\u001b[0m\u001b[1;33m\u001b[0m\u001b[0m\n\u001b[0m\u001b[0;32m     24\u001b[0m     \u001b[0mball_v\u001b[0m\u001b[1;33m[\u001b[0m\u001b[1;36m1\u001b[0m\u001b[1;33m:\u001b[0m\u001b[1;33m]\u001b[0m \u001b[1;33m+=\u001b[0m \u001b[1;33m(\u001b[0m\u001b[1;33m-\u001b[0m\u001b[0mk\u001b[0m \u001b[1;33m*\u001b[0m \u001b[1;33m(\u001b[0m\u001b[0mspring_len\u001b[0m\u001b[1;33m[\u001b[0m\u001b[1;33m:\u001b[0m\u001b[1;33m-\u001b[0m\u001b[1;36m1\u001b[0m\u001b[1;33m]\u001b[0m \u001b[1;33m-\u001b[0m \u001b[0md\u001b[0m\u001b[1;33m)\u001b[0m \u001b[1;33m/\u001b[0m \u001b[0mm\u001b[0m \u001b[1;33m+\u001b[0m \u001b[0mk\u001b[0m \u001b[1;33m*\u001b[0m \u001b[1;33m(\u001b[0m\u001b[0mspring_len\u001b[0m\u001b[1;33m[\u001b[0m\u001b[1;36m1\u001b[0m\u001b[1;33m:\u001b[0m\u001b[1;33m]\u001b[0m \u001b[1;33m-\u001b[0m \u001b[0md\u001b[0m\u001b[1;33m)\u001b[0m \u001b[1;33m/\u001b[0m \u001b[0mm\u001b[0m\u001b[1;33m)\u001b[0m \u001b[1;33m*\u001b[0m \u001b[0mdt\u001b[0m\u001b[1;33m\u001b[0m\u001b[1;33m\u001b[0m\u001b[0m\n\u001b[0;32m     25\u001b[0m \u001b[1;33m\u001b[0m\u001b[0m\n",
      "\u001b[1;31mKeyboardInterrupt\u001b[0m: "
     ]
    }
   ],
   "source": [
    "from vpython import *\n",
    "import numpy as np\n",
    "\n",
    "A, N, omega = 0.10, 50, 2*pi/1.0\n",
    "size, m, k, d = 0.06, 0.1, 10.0, 0.4\n",
    "\n",
    "# scene = canvas(title='Spring Wave', width=800, height=300, background=vec(0.5,0.5,0), center = vec((N-1)*d/2, 0, 0))\n",
    "# balls = [sphere(radius=size, color=color.red, pos=vector(i*d, 0, 0), v=vector(0,0,0)) for i in range(N)]\n",
    "# springs = [helix(radius = size/2.0, thickness = d/15.0, pos=vector(i*d, 0, 0), axis=vector(d,0,0)) for i in range(N-1)]\n",
    "\n",
    "# c = curve([vector(i*d, 1.0, 0) for i in range(N)], color=color.black)\n",
    "graph_dr = graph(width=800, align='left', title='Phonon dispersion relationship', xtitle='Wavevector', ytitle='Angular Frequency', background=vec(0.3, 0.7, 0.4))\n",
    "dr = gcurve(color=color.blue, graph=graph_dr)\n",
    "\n",
    "#for n in range(1, int(N/2)):\n",
    "\n",
    "Unit_K, n = 2 * pi/(N*d), 25\n",
    "Wavevector = n * Unit_K\n",
    "phase = Wavevector * arange(N) * d\n",
    "ball_pos, ball_orig, ball_v, spring_len = np.arange(N)*d + A*np.sin(phase), np.arange(N)*d, np.zeros(N), np.ones(N)*d\n",
    "\n",
    "t, dt = 0, 0.001\n",
    "prev_v = ball_v[1]\n",
    "reach_max_times = 0\n",
    "\n",
    "while True:\n",
    "\n",
    "    rate(1000)\n",
    "    t += dt\n",
    "\n",
    "    spring_len[:-1] = ball_pos[1:] - ball_pos[:-1]\n",
    "    spring_len[-1] = ball_pos[0] + N*d - ball_pos[-1]\n",
    "    ball_v[0] += (-k * (spring_len[-1] - d) / m + k * (spring_len[0] - d) / m) * dt\n",
    "    ball_v[1:] += (-k * (spring_len[:-1] - d) / m + k * (spring_len[1:] - d) / m) * dt\n",
    "\n",
    "    ball_pos += ball_v * dt\n",
    "\n",
    "    # for i in range(N):\n",
    "    #     balls[i].pos.x = ball_pos[i]\n",
    "    # for i in range(N-1):\n",
    "    #     springs[i].pos = balls[i].pos\n",
    "    #     springs[i].axis = balls[i+1].pos - balls[i].pos\n",
    "\n",
    "    ball_disp = ball_pos - ball_orig\n",
    "    for i in range(N):\n",
    "        c.modify(i, y = ball_disp[i]*4+1)\n",
    "\n",
    "#         if prev_v > 0 and ball_v[1] <= 0:\n",
    "#             reach_max_times += 1\n",
    "#             if reach_max_times == 1:\n",
    "#                 t0 = t\n",
    "#             elif reach_max_times == 2:\n",
    "#                 period = t - t0\n",
    "#                 omega = 2*pi/period\n",
    "#                 dr.plot(pos=(Wavevector, omega))\n",
    "#                 break\n",
    "#         prev_v = ball_v[1]\n",
    "\n"
   ]
  },
  {
   "cell_type": "code",
   "execution_count": null,
   "id": "aaded48f",
   "metadata": {},
   "outputs": [],
   "source": [
    "from vpython import *\n",
    "import numpy as np\n",
    "\n",
    "A, N, omega = 0.10, 50, 2*pi/1.0\n",
    "size, m, k, d = 0.06, 0.1, 10.0, 0.4\n",
    "\n",
    "scene = canvas(title='Spring Wave', width=800, height=300, background=vec(0.5,0.5,0), center = vec((N-1)*d/2, 0, 0))\n",
    "# balls = [sphere(radius=size, color=color.red, pos=vector(i*d, 0, 0), v=vector(0,0,0)) for i in range(N)]\n",
    "# springs = [helix(radius = size/2.0, thickness = d/15.0, pos=vector(i*d, 0, 0), axis=vector(d,0,0)) for i in range(N-1)]\n",
    "\n",
    "c = curve([vector(i*d, 1.0, 0) for i in range(N)], color=color.black)\n",
    "graph_dr = graph(width=450, align='left', xtitle='Wavevector', ytitle='Angular Frequency', background=vec(0.3, 0.7, 0.4))\n",
    "dr = gcurve(color=color.blue, graph=graph_dr)\n",
    "\n",
    "# for n in range(1, int(N/2)):\n",
    "\n",
    "Unit_K, n = 2 * pi/(N*d), 10\n",
    "Wavevector = n * Unit_K\n",
    "phase = Wavevector * arange(N) * d\n",
    "ball_pos, ball_orig, ball_v, spring_len = np.arange(N)*d + A*np.sin(phase), np.arange(N)*d, np.zeros(N), np.ones(N)*d\n",
    "\n",
    "t, dt = 0, 0.001\n",
    "prev_v = ball_v[1]\n",
    "reach_max_times = 0\n",
    "\n",
    "while True:\n",
    "\n",
    "    rate(1000)\n",
    "    t += dt\n",
    "\n",
    "    spring_len[:-1] = ball_pos[1:] - ball_pos[:-1]\n",
    "    spring_len[-1] = ball_pos[0] + N*d - ball_pos[-1]\n",
    "    ball_v[0] += (-k * (spring_len[-1] - d) / m + k * (spring_len[0] - d) / m) * dt\n",
    "    ball_v[1:] += (-k * (spring_len[:-1] - d) / m + k * (spring_len[1:] - d) / m) * dt\n",
    "\n",
    "    ball_pos += ball_v * dt\n",
    "\n",
    "    # for i in range(N):\n",
    "    #     balls[i].pos.x = ball_pos[i]\n",
    "    # for i in range(N-1):\n",
    "    #     springs[i].pos = balls[i].pos\n",
    "    #     springs[i].axis = balls[i+1].pos - balls[i].pos\n",
    "\n",
    "    ball_disp = ball_pos - ball_orig\n",
    "    for i in range(N):\n",
    "        c.modify(i, y = ball_disp[i]*4+1)\n",
    "\n",
    "#     if prev_v > 0 and ball_v[1] <= 0:\n",
    "#         reach_max_times += 1\n",
    "#         if reach_max_times == 1:\n",
    "#             t0 = t\n",
    "#         elif reach_max_times == 2:\n",
    "#             period = t - t0\n",
    "#             omega = 2*pi/period\n",
    "#             dr.plot(pos=(Wavevector, omega))\n",
    "#             break\n",
    "#     prev_v = ball_v[1]\n",
    "\n"
   ]
  },
  {
   "cell_type": "code",
   "execution_count": null,
   "id": "0db1ab26",
   "metadata": {},
   "outputs": [],
   "source": []
  }
 ],
 "metadata": {
  "kernelspec": {
   "display_name": "Python 3 (ipykernel)",
   "language": "python",
   "name": "python3"
  },
  "language_info": {
   "codemirror_mode": {
    "name": "ipython",
    "version": 3
   },
   "file_extension": ".py",
   "mimetype": "text/x-python",
   "name": "python",
   "nbconvert_exporter": "python",
   "pygments_lexer": "ipython3",
   "version": "3.9.7"
  }
 },
 "nbformat": 4,
 "nbformat_minor": 5
}
