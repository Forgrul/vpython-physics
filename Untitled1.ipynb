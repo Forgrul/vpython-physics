{
 "cells": [
  {
   "cell_type": "code",
   "execution_count": null,
   "id": "1989a541",
   "metadata": {},
   "outputs": [
    {
     "data": {
      "text/html": [
       "<div id=\"glowscript\" class=\"glowscript\"></div>"
      ],
      "text/plain": [
       "<IPython.core.display.HTML object>"
      ]
     },
     "metadata": {},
     "output_type": "display_data"
    },
    {
     "data": {
      "application/javascript": [
       "if (typeof Jupyter !== \"undefined\") { window.__context = { glowscript_container: $(\"#glowscript\").removeAttr(\"id\")};}else{ element.textContent = ' ';}"
      ],
      "text/plain": [
       "<IPython.core.display.Javascript object>"
      ]
     },
     "metadata": {},
     "output_type": "display_data"
    },
    {
     "data": {
      "text/html": [
       "<div id=\"glowscript\" class=\"glowscript\"></div>"
      ],
      "text/plain": [
       "<IPython.core.display.HTML object>"
      ]
     },
     "metadata": {},
     "output_type": "display_data"
    },
    {
     "data": {
      "application/javascript": [
       "if (typeof Jupyter !== \"undefined\") { window.__context = { glowscript_container: $(\"#glowscript\").removeAttr(\"id\")};}else{ element.textContent = ' ';}"
      ],
      "text/plain": [
       "<IPython.core.display.Javascript object>"
      ]
     },
     "metadata": {},
     "output_type": "display_data"
    },
    {
     "data": {
      "application/javascript": [
       "if (typeof Jupyter !== \"undefined\") {require.undef(\"nbextensions/vpython_libraries/glow.min\");}else{element.textContent = ' ';}"
      ],
      "text/plain": [
       "<IPython.core.display.Javascript object>"
      ]
     },
     "metadata": {},
     "output_type": "display_data"
    },
    {
     "data": {
      "application/javascript": [
       "if (typeof Jupyter !== \"undefined\") {require.undef(\"nbextensions/vpython_libraries/glowcomm\");}else{element.textContent = ' ';}"
      ],
      "text/plain": [
       "<IPython.core.display.Javascript object>"
      ]
     },
     "metadata": {},
     "output_type": "display_data"
    },
    {
     "data": {
      "application/javascript": [
       "if (typeof Jupyter !== \"undefined\") {require.undef(\"nbextensions/vpython_libraries/jquery-ui.custom.min\");}else{element.textContent = ' ';}"
      ],
      "text/plain": [
       "<IPython.core.display.Javascript object>"
      ]
     },
     "metadata": {},
     "output_type": "display_data"
    },
    {
     "data": {
      "application/javascript": [
       "if (typeof Jupyter !== \"undefined\") {require([\"nbextensions/vpython_libraries/glow.min\"], function(){console.log(\"GLOW LOADED\");});}else{element.textContent = ' ';}"
      ],
      "text/plain": [
       "<IPython.core.display.Javascript object>"
      ]
     },
     "metadata": {},
     "output_type": "display_data"
    },
    {
     "data": {
      "application/javascript": [
       "if (typeof Jupyter !== \"undefined\") {require([\"nbextensions/vpython_libraries/glowcomm\"], function(){console.log(\"GLOWCOMM LOADED\");});}else{element.textContent = ' ';}"
      ],
      "text/plain": [
       "<IPython.core.display.Javascript object>"
      ]
     },
     "metadata": {},
     "output_type": "display_data"
    },
    {
     "data": {
      "application/javascript": [
       "if (typeof Jupyter !== \"undefined\") {require([\"nbextensions/vpython_libraries/jquery-ui.custom.min\"], function(){console.log(\"JQUERY LOADED\");});}else{element.textContent = ' ';}"
      ],
      "text/plain": [
       "<IPython.core.display.Javascript object>"
      ]
     },
     "metadata": {},
     "output_type": "display_data"
    }
   ],
   "source": [
    "from vpython import *\n",
    "\n",
    "g=9.8\n",
    "size,m = 0.2, 1\n",
    "L, k = 2, 150000\n",
    "N = 2\n",
    "\n",
    "scene = canvas(length=800, width=800, center=vec(0, -0.8, 0), background=vec(0,0.8,0.8), align='left')\n",
    "\n",
    "pivots = []\n",
    "for i in range(5):\n",
    "    pivot = sphere(radius=0.06, pos=vec(-0.8+0.4*i, 0, 0), color=color.white)\n",
    "    pivots.append(pivot)\n",
    "    \n",
    "strings = []\n",
    "for i in range(5):\n",
    "    string = cylinder(radius=0.04, pos=vec(-0.8+0.4*i, 0, 0), color=color.white)\n",
    "    strings.append(string)\n",
    "    \n",
    "balls = []\n",
    "for i in range(5):\n",
    "    ball = sphere(radius=size, color=color.white)\n",
    "    ball.pos = vec(-0.8+0.4*i, -L-m*g/k, 0)\n",
    "    ball.v = vec(0,0,0)\n",
    "    balls.append(ball)\n",
    "\n",
    "for i in range(N):\n",
    "    balls[i].pos += vec(-sqrt(L**2-1.95**2), 0.05, 0)\n",
    "\n",
    "def af_col_v(m1, m2, v1, v2, x1, x2):\n",
    "    v1_prime = v1 - 2*m2/(m1+m2)*(x1-x2) * dot(v1 - v2, x1 - x2) / (mag(x1-x2))**2\n",
    "    v2_prime = v2 - 2*m1/(m1+m2)*(x2-x1) * dot(v2 - v1, x2 - x1) / (mag(x2-x1))**2\n",
    "    return (v1_prime, v2_prime)\n",
    "\n",
    "graph1 = graph(width=450, align='right')\n",
    "funct1 = gcurve(graph=graph1, color=color.blue, width=4)\n",
    "funct2 = gcurve(graph=graph1, color=color.red, width=4)\n",
    "graph2 = graph(width=450, align='right')\n",
    "funct3 = gcurve(graph=graph2, color=color.blue, width=4)\n",
    "funct4 = gcurve(graph=graph2, color=color.red, width=4)\n",
    "\n",
    "dt = 0.0001\n",
    "t = 0\n",
    "total_KE = total_U = 0\n",
    "while True:\n",
    "    rate(5000)\n",
    "    t += dt\n",
    "    \n",
    "    KE = U = 0\n",
    "    for i in range(5):\n",
    "        strings[i].axis = balls[i].pos - strings[i].pos\n",
    "        tension = -k * (mag(strings[i].axis) - L) * strings[i].axis.norm()\n",
    "        balls[i].a = vec(0, -g, 0) + tension/m\n",
    "        balls[i].v += balls[i].a * dt\n",
    "        balls[i].pos += balls[i].v * dt\n",
    "        \n",
    "        if ((i <= 3 and mag(balls[i].pos - balls[i+1].pos) <= 2*size) and (dot(balls[i].pos - balls[i+1].pos, balls[i].v - balls[i+1].v) < 0)):\n",
    "            balls[i].v, balls[i+1].v = af_col_v(m, m, balls[i].v, balls[i+1].v, balls[i].pos, balls[i+1].pos)\n",
    "            \n",
    "        KE += 0.5*m*(mag(balls[i].v)**2)\n",
    "        U += m * g * (balls[i].pos.y -(-L-m*g/k))\n",
    "            \n",
    "    funct1.plot(t, KE)\n",
    "    funct2.plot(t, U)\n",
    "    total_KE += KE * dt\n",
    "    total_U += U * dt\n",
    "    funct3.plot(t, total_KE/t)\n",
    "    funct4.plot(t, total_U/t)\n",
    "    "
   ]
  },
  {
   "cell_type": "code",
   "execution_count": null,
   "id": "07ec14ee",
   "metadata": {},
   "outputs": [],
   "source": []
  }
 ],
 "metadata": {
  "kernelspec": {
   "display_name": "Python 3 (ipykernel)",
   "language": "python",
   "name": "python3"
  },
  "language_info": {
   "codemirror_mode": {
    "name": "ipython",
    "version": 3
   },
   "file_extension": ".py",
   "mimetype": "text/x-python",
   "name": "python",
   "nbconvert_exporter": "python",
   "pygments_lexer": "ipython3",
   "version": "3.9.7"
  }
 },
 "nbformat": 4,
 "nbformat_minor": 5
}
